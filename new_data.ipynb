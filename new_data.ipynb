{
 "cells": [
  {
   "cell_type": "code",
   "execution_count": 13,
   "metadata": {},
   "outputs": [
    {
     "name": "stdout",
     "output_type": "stream",
     "text": [
      "dict_keys(['valid', 'test', 'train'])\n",
      "dict_keys(['vision', 'labels', 'text', 'audio', 'id'])\n",
      "[[-1.2]]\n"
     ]
    }
   ],
   "source": [
    "import pickle\n",
    "with open('/mnt/disk1/wyx/datasets/MSADatasets/MOSI/mosi_data_0610.pkl', 'rb') as file:\n",
    "    data1 = pickle.load(file)\n",
    "print(data1.keys())\n",
    "print(data1['train'].keys())\n",
    "print(data1['train']['labels'][1])"
   ]
  },
  {
   "cell_type": "code",
   "execution_count": 12,
   "metadata": {},
   "outputs": [
    {
     "name": "stdout",
     "output_type": "stream",
     "text": [
      "dict_keys(['train', 'valid', 'test'])\n",
      "dict_keys(['raw_text', 'audio', 'vision', 'id', 'text', 'text_bert', 'audio_lengths', 'vision_lengths', 'annotations', 'classification_labels', 'regression_labels'])\n",
      "-1.2\n"
     ]
    }
   ],
   "source": [
    "import pickle\n",
    "with open('/mnt/disk1/wyx/datasets/MSADatasets/MOSI/Processed/unaligned_50.pkl', 'rb') as file:\n",
    "    data2 = pickle.load(file)\n",
    "print(data2.keys())\n",
    "print(data2['train'].keys())\n",
    "print(data2['train']['regression_labels'][1])"
   ]
  },
  {
   "cell_type": "code",
   "execution_count": 18,
   "metadata": {},
   "outputs": [
    {
     "name": "stdout",
     "output_type": "stream",
     "text": [
      "666\n"
     ]
    }
   ],
   "source": [
    "for k in data2.keys():   \n",
    "    for i,j in zip(data1[k]['labels'],data2[k]['regression_labels']):\n",
    "        if i[0][0] != j:\n",
    "            print('gg')\n",
    "\n",
    "print('666')"
   ]
  },
  {
   "cell_type": "code",
   "execution_count": 19,
   "metadata": {},
   "outputs": [],
   "source": [
    "for i in data2.keys():\n",
    "    data2[i]['audio'] = data1[i]['audio']\n",
    "    data2[i]['vision'] = data1[i]['vision']"
   ]
  },
  {
   "cell_type": "code",
   "execution_count": 20,
   "metadata": {},
   "outputs": [],
   "source": [
    "# 指定要保存的文件名\n",
    "filename = '/mnt/disk1/wyx/datasets/MSADatasets/MOSI/new_mosi_data.pkl'\n",
    "\n",
    "# 使用'wb'模式打开文件以进行二进制写入\n",
    "with open(filename, 'wb') as file:\n",
    "    # 使用pickle.dump()将数据保存到文件中\n",
    "    pickle.dump(data2, file)\n"
   ]
  },
  {
   "cell_type": "code",
   "execution_count": 22,
   "metadata": {},
   "outputs": [
    {
     "name": "stdout",
     "output_type": "stream",
     "text": [
      "dict_keys(['train', 'valid', 'test'])\n",
      "dict_keys(['raw_text', 'audio', 'vision', 'id', 'text', 'text_bert', 'audio_lengths', 'vision_lengths', 'annotations', 'classification_labels', 'regression_labels'])\n"
     ]
    }
   ],
   "source": [
    "with open(filename, 'rb') as file:\n",
    "    data3 = pickle.load(file)\n",
    "print(data3.keys())\n",
    "print(data3['train'].keys())\n",
    "print(f\"({len(data3['train']['audio'])},{},{})\")"
   ]
  },
  {
   "cell_type": "code",
   "execution_count": null,
   "metadata": {},
   "outputs": [],
   "source": []
  }
 ],
 "metadata": {
  "kernelspec": {
   "display_name": "MSA",
   "language": "python",
   "name": "python3"
  },
  "language_info": {
   "codemirror_mode": {
    "name": "ipython",
    "version": 3
   },
   "file_extension": ".py",
   "mimetype": "text/x-python",
   "name": "python",
   "nbconvert_exporter": "python",
   "pygments_lexer": "ipython3",
   "version": "3.9.18"
  }
 },
 "nbformat": 4,
 "nbformat_minor": 2
}
